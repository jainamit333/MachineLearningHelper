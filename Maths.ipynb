{
 "cells": [
  {
   "cell_type": "markdown",
   "metadata": {},
   "source": [
    "- __True Positive:__\n",
    "- __True Negative:__\n",
    "- __False Positive:__\n",
    "- __False Negative:__\n",
    "- __Precision:__\n",
    "- __Recall:__\n",
    "- __Accuracy:__\n",
    "- __F1 Score:__"
   ]
  },
  {
   "cell_type": "code",
   "execution_count": 1,
   "metadata": {},
   "outputs": [],
   "source": [
    "#precision, recall, accuracy, f1 score\n",
    "def praf(true_positive = 0, false_positive = 0, false_negative = 0, true_negative = 0):\n",
    "    p = true_positive / (true_positive + false_positive)\n",
    "    r = true_positive / (true_positive + false_negative)\n",
    "    a = (true_positive + true_negative)/(true_positive+true_negative+false_positive+false_negative)\n",
    "    f1 = (2 * (p * r))/(p +r)\n",
    "    return p, r, a, f1"
   ]
  },
  {
   "cell_type": "code",
   "execution_count": null,
   "metadata": {},
   "outputs": [],
   "source": []
  }
 ],
 "metadata": {
  "kernelspec": {
   "display_name": "Python 3",
   "language": "python",
   "name": "python3"
  },
  "language_info": {
   "codemirror_mode": {
    "name": "ipython",
    "version": 3
   },
   "file_extension": ".py",
   "mimetype": "text/x-python",
   "name": "python",
   "nbconvert_exporter": "python",
   "pygments_lexer": "ipython3",
   "version": "3.6.5"
  }
 },
 "nbformat": 4,
 "nbformat_minor": 2
}
