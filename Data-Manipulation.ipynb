{
 "cells": [
  {
   "cell_type": "code",
   "execution_count": 32,
   "metadata": {},
   "outputs": [],
   "source": [
    "import numpy as np"
   ]
  },
  {
   "cell_type": "code",
   "execution_count": 52,
   "metadata": {},
   "outputs": [],
   "source": [
    "# features ->numpy matrix of m * n matrix, return type m * n+1 matrix\n",
    "def add_row_of_ones(features):\n",
    "    number_of_rows = np.shape(features)[0]\n",
    "    row_of_ones = np.ones(shape=[number_of_rows,1])\n",
    "    return np.hstack([row_of_ones, features])\n",
    "    \n",
    "    "
   ]
  },
  {
   "cell_type": "code",
   "execution_count": 53,
   "metadata": {},
   "outputs": [],
   "source": [
    "def generate_array_randon_value(size, low = 0.0, high = 1):\n",
    "        return np.random.uniform(low=low, high=high, size=(size,));"
   ]
  },
  {
   "cell_type": "code",
   "execution_count": 54,
   "metadata": {},
   "outputs": [],
   "source": [
    "def generate_mat_of_array_randon_value(size, low = 0.0, high = 1):\n",
    "        return np.asmatrix(generate_array_randon_value(size, low, high))"
   ]
  }
 ],
 "metadata": {
  "kernelspec": {
   "display_name": "Python 3",
   "language": "python",
   "name": "python3"
  },
  "language_info": {
   "codemirror_mode": {
    "name": "ipython",
    "version": 3
   },
   "file_extension": ".py",
   "mimetype": "text/x-python",
   "name": "python",
   "nbconvert_exporter": "python",
   "pygments_lexer": "ipython3",
   "version": "3.6.5"
  }
 },
 "nbformat": 4,
 "nbformat_minor": 2
}
