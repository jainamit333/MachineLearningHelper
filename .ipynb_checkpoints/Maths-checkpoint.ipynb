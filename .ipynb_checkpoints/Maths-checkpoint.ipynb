{
 "cells": [
  {
   "cell_type": "code",
   "execution_count": null,
   "metadata": {},
   "outputs": [],
   "source": [
    "#precision, recall, accuracy, f1 score\n",
    "def praf(true_positive = 0, false_positive = 0, false_negative = 0, true_negative = 0):\n",
    "    p = true_positive / (true_positive + false_positive)\n",
    "    r = true_positive / (true_positive + false_negative)\n",
    "    a = (true_positive + true_negative)/(true_positive+true_negative+false_positive+false_negative)\n",
    "    f1 = (2 * (p * r))/(p +r)\n",
    "    return p, r, a, f1"
   ]
  }
 ],
 "metadata": {
  "kernelspec": {
   "display_name": "Python 3",
   "language": "python",
   "name": "python3"
  },
  "language_info": {
   "codemirror_mode": {
    "name": "ipython",
    "version": 3
   },
   "file_extension": ".py",
   "mimetype": "text/x-python",
   "name": "python",
   "nbconvert_exporter": "python",
   "pygments_lexer": "ipython3",
   "version": "3.6.5"
  }
 },
 "nbformat": 4,
 "nbformat_minor": 2
}
